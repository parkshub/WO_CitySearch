{
 "cells": [
  {
   "cell_type": "markdown",
   "id": "836ad022",
   "metadata": {},
   "source": [
    "### Libraries"
   ]
  },
  {
   "cell_type": "code",
   "execution_count": null,
   "id": "7ce89f2f",
   "metadata": {},
   "outputs": [],
   "source": [
    "import re\n",
    "import time\n",
    "import asyncio\n",
    "import pandas as pd\n",
    "from bs4 import BeautifulSoup\n",
    "from requests_html import AsyncHTMLSession\n",
    "\n",
    "from selenium import webdriver\n",
    "from selenium.webdriver.common.by import By\n",
    "from selenium.webdriver.support.ui import WebDriverWait\n",
    "from selenium.webdriver.support import expected_conditions as EC\n",
    "from selenium.common.exceptions import TimeoutException, NoSuchElementException, WebDriverException, StaleElementReferenceException"
   ]
  },
  {
   "cell_type": "markdown",
   "id": "42baf65c",
   "metadata": {},
   "source": [
    "### Global Variables"
   ]
  },
  {
   "cell_type": "code",
   "execution_count": null,
   "id": "a4377442",
   "metadata": {},
   "outputs": [],
   "source": [
    "us_state_to_abbrev = {\n",
    "    \"Alabama\": \"AL\",\n",
    "    \"Alaska\": \"AK\",\n",
    "    \"Arizona\": \"AZ\",\n",
    "    \"Arkansas\": \"AR\",\n",
    "    \"California\": \"CA\",\n",
    "    \"Colorado\": \"CO\",\n",
    "    \"Connecticut\": \"CT\",\n",
    "    \"Delaware\": \"DE\",\n",
    "    \"Florida\": \"FL\",\n",
    "    \"Georgia\": \"GA\",\n",
    "    \"Hawaii\": \"HI\",\n",
    "    \"Idaho\": \"ID\",\n",
    "    \"Illinois\": \"IL\",\n",
    "    \"Indiana\": \"IN\",\n",
    "    \"Iowa\": \"IA\",\n",
    "    \"Kansas\": \"KS\",\n",
    "    \"Kentucky\": \"KY\",\n",
    "    \"Louisiana\": \"LA\",\n",
    "    \"Maine\": \"ME\",\n",
    "    \"Maryland\": \"MD\",\n",
    "    \"Massachusetts\": \"MA\",\n",
    "    \"Michigan\": \"MI\",\n",
    "    \"Minnesota\": \"MN\",\n",
    "    \"Mississippi\": \"MS\",\n",
    "    \"Missouri\": \"MO\",\n",
    "    \"Montana\": \"MT\",\n",
    "    \"Nebraska\": \"NE\",\n",
    "    \"Nevada\": \"NV\",\n",
    "    \"New Hampshire\": \"NH\",\n",
    "    \"New Jersey\": \"NJ\",\n",
    "    \"New Mexico\": \"NM\",\n",
    "    \"New York\": \"NY\",\n",
    "    \"North Carolina\": \"NC\",\n",
    "    \"North Dakota\": \"ND\",\n",
    "    \"Ohio\": \"OH\",\n",
    "    \"Oklahoma\": \"OK\",\n",
    "    \"Oregon\": \"OR\",\n",
    "    \"Pennsylvania\": \"PA\",\n",
    "    \"Rhode Island\": \"RI\",\n",
    "    \"South Carolina\": \"SC\",\n",
    "    \"South Dakota\": \"SD\",\n",
    "    \"Tennessee\": \"TN\",\n",
    "    \"Texas\": \"TX\",\n",
    "    \"Utah\": \"UT\",\n",
    "    \"Vermont\": \"VT\",\n",
    "    \"Virginia\": \"VA\",\n",
    "    \"Washington\": \"WA\",\n",
    "    \"West Virginia\": \"WV\",\n",
    "    \"Wisconsin\": \"WI\",\n",
    "    \"Wyoming\": \"WY\",\n",
    "    \"District of Columbia\": \"DC\",\n",
    "    \"American Samoa\": \"AS\",\n",
    "    \"Guam\": \"GU\",\n",
    "    \"Northern Mariana Islands\": \"MP\",\n",
    "    \"Puerto Rico\": \"PR\",\n",
    "    \"United States Minor Outlying Islands\": \"UM\",\n",
    "    \"U.S. Virgin Islands\": \"VI\",\n",
    "}\n",
    "\n",
    "industries = [\n",
    "    {\"Construction\": [\"Carpentry\", \"Plumbing\", \"Electrical work\"]},\n",
    "    {\"Manufacturing\": [\"Welding\", \"Machine operation\", \"Assembly line work\"]},\n",
    "    {\"Transportation\": [\"Truck driving\", \"Warehouse operations\", \"Forklift operation\"]},\n",
    "    {\"Logistics\": []},\n",
    "    {\"Automotive\": [\"Automotive repair\", \"Auto maintenance\", \"Auto Bodywork\", \"Tire services\"]},\n",
    "    {\"Maintenance and Repair\": [\"HVAC\", \"Appliance repair\", \"General maintenance\"]},\n",
    "    {\"Retail\": [\"Boutiques\", \"Specialty stores\", \"Online shops\"]},\n",
    "    {\"Food and Beverage\": [\"Restaurants\", \"Cafes\", \"Food trucks\"]},\n",
    "    {\"Personal Services\": [\"Hair salons\", \"Barber shops\"]}\n",
    "]\n",
    "\n",
    "states_of_interest = [\"California\", \"New Jersey\", \"New York\", \"Texas\"]"
   ]
  },
  {
   "cell_type": "markdown",
   "id": "6daea086",
   "metadata": {},
   "source": [
    "### Functions Used"
   ]
  },
  {
   "cell_type": "markdown",
   "id": "0ba5cdd1",
   "metadata": {},
   "source": [
    "#### There's a bit going on, so I'll try my best to explain what each function does in the order they are called. I hope it helps understand the main implementation better."
   ]
  },
  {
   "cell_type": "markdown",
   "id": "40d159a1",
   "metadata": {},
   "source": [
    "The switch funciton is simply a quality-of-life function to switch the orders of an output."
   ]
  },
  {
   "cell_type": "code",
   "execution_count": null,
   "id": "bb1c4c7d",
   "metadata": {},
   "outputs": [],
   "source": [
    "def switch(el):\n",
    "    pos1, pos2 = el.split(\"/\")\n",
    "    return pos2 + \",%20\" + pos1"
   ]
  },
  {
   "cell_type": "markdown",
   "id": "1a5bf809",
   "metadata": {},
   "source": [
    "In CitySearch, per industry and location, there's a list of companies. Here we're locating and saving the links to each company profile. Handling exceptions at this stage wasn't too much of an issue, but on rare occasions there were no companies."
   ]
  },
  {
   "cell_type": "code",
   "execution_count": null,
   "id": "6d61344a",
   "metadata": {},
   "outputs": [],
   "source": [
    "def get_job_cards_links(driver):\n",
    "    try:\n",
    "        print('looking for job card list')\n",
    "\n",
    "        job_cards = WebDriverWait(driver, 10).until(\n",
    "            EC.presence_of_all_elements_located((By.CSS_SELECTOR, \"div.list-container > div.card > a\")))\n",
    "\n",
    "        job_cards_links = [job.get_attribute(\"href\") for job in job_cards]\n",
    "\n",
    "    except (NoSuchElementException, TimeoutException):\n",
    "        print(\"Error: Timed out waiting for page to load. Most likely no job listing in this category\")\n",
    "\n",
    "        job_cards_links = []\n",
    "\n",
    "    return job_cards_links"
   ]
  },
  {
   "cell_type": "markdown",
   "id": "2603c668",
   "metadata": {},
   "source": [
    "<img src=\"./assets/job_list.png\" width=\"200\" height=\"100\">"
   ]
  },
  {
   "cell_type": "code",
   "execution_count": null,
   "id": "deb63bfa",
   "metadata": {},
   "outputs": [],
   "source": [
    "business details to dict"
   ]
  },
  {
   "cell_type": "code",
   "execution_count": null,
   "id": "e571accb",
   "metadata": {},
   "outputs": [],
   "source": [
    "get email"
   ]
  },
  {
   "cell_type": "code",
   "execution_count": null,
   "id": "1d9f45ca",
   "metadata": {},
   "outputs": [],
   "source": [
    "html to string"
   ]
  },
  {
   "cell_type": "code",
   "execution_count": null,
   "id": "7444a00b",
   "metadata": {},
   "outputs": [],
   "source": [
    "get email from contact"
   ]
  },
  {
   "cell_type": "code",
   "execution_count": null,
   "id": "66fd76e8",
   "metadata": {},
   "outputs": [],
   "source": [
    "save to csv"
   ]
  },
  {
   "cell_type": "code",
   "execution_count": null,
   "id": "09ba91da",
   "metadata": {},
   "outputs": [],
   "source": [
    "########################\n",
    "# iterating over all the states, then cities, then industries and scarping business information\n",
    "########################\n",
    "async def main():\n",
    "    #######################\n",
    "    # opening and cleaning xlsx file\n",
    "    #######################\n",
    "    df = pd.read_excel(\"assets/google_maps_keywords.xlsx\")\n",
    "    df.loc[:, [\"Country\", \"State\"]] = df.loc[:, [\"Country\", \"State\"]].ffill()\n",
    "\n",
    "    ########################\n",
    "    # grouping dataframe by country then by state\n",
    "    ########################\n",
    "    grouped_df = df.groupby(\"Country\")\n",
    "    grouped_countries = grouped_df.get_group(\"United States\")\n",
    "    grouped_states = grouped_countries.groupby(\"State\")\n",
    "    states = grouped_states.groups.keys()\n",
    "\n",
    "    ########################\n",
    "    # navigating to the front page of CitySearch\n",
    "    ########################\n",
    "    chrome_options = webdriver.ChromeOptions()\n",
    "    chrome_options.add_argument(\"--window-size=1920,1080\")\n",
    "    chrome_options.add_argument(\"--disable-extensions\")\n",
    "    chrome_options.add_argument(\"--proxy-server='direct://'\")\n",
    "    chrome_options.add_argument(\"--proxy-bypass-list=*\")\n",
    "    chrome_options.add_argument(\"--start-maximized\")\n",
    "    chrome_options.add_argument('--headless')\n",
    "    chrome_options.add_argument('--disable-gpu')\n",
    "    chrome_options.add_argument('--disable-dev-shm-usage')\n",
    "    chrome_options.add_argument('--no-sandbox')\n",
    "    chrome_options.add_argument('--ignore-certificate-errors')\n",
    "\n",
    "    driver = webdriver.Chrome(options=chrome_options)\n",
    "    driver.get(\"https://www.citysearch.com/\")\n",
    "\n",
    "    ########################\n",
    "    # extracting the links to individual cities\n",
    "    ########################\n",
    "    container = driver.find_element(By.CSS_SELECTOR, \"div.cities-container\")\n",
    "    cities = container.find_elements(By.CSS_SELECTOR, \"li:not([class*='state']) > a\")\n",
    "    city_links = [city.get_attribute(\"href\") for city in cities]\n",
    "\n",
    "    for state in states:  # using this loop to continue from where code stopped, if it encounters an error\n",
    "    # for state in states_of_interest:\n",
    "        visited = set()\n",
    "\n",
    "        pattern = re.compile(f\".*/{us_state_to_abbrev[state]}/.*\", re.IGNORECASE)\n",
    "        where_params = [switch(param) for param in\n",
    "                        [link.replace(\"https://www.citysearch.com/\", \"\") for link in city_links if\n",
    "                         bool(pattern.match(link))]]\n",
    "\n",
    "        for where_param in where_params:\n",
    "            business_list = []\n",
    "\n",
    "            for industry in [list(industry.keys())[0] for industry in industries]:\n",
    "                url = f\"https://www.citysearch.com/results?term={industry.strip().replace(' ', '%20')}&where={where_param}\"\n",
    "\n",
    "                print(\"--------------------state, params, industry--------------------\")\n",
    "                print(\"-------------------------\", url, \"----------------------------\")\n",
    "                print(state, where_param, industry)\n",
    "\n",
    "                driver.get(url)\n",
    "                job_cards_links = get_job_cards_links(driver)\n",
    "\n",
    "                if len(job_cards_links) == 0:\n",
    "                    continue\n",
    "\n",
    "                # visiting each job link for the current industry and scraping information\n",
    "                for job_cards_link in job_cards_links:\n",
    "                    if job_cards_link in visited:\n",
    "                        print('already visited skipping')\n",
    "                        continue\n",
    "\n",
    "                    visited.add(job_cards_link)\n",
    "\n",
    "                    print(\"------visiting profile: \", job_cards_link, \"------\")\n",
    "                    driver.get(job_cards_link)\n",
    "\n",
    "                    business_details_dict = business_details_to_dict(driver, industry)\n",
    "\n",
    "\n",
    "                    try:\n",
    "                        print('looking for additional details')\n",
    "                        additional_info = WebDriverWait(driver, 5).until(\n",
    "                            EC.presence_of_element_located(\n",
    "                                (By.CSS_SELECTOR, 'div.panel-container > div.panel-details')))\n",
    "\n",
    "                        business_details_dict['additional_info'] = additional_info.text\n",
    "\n",
    "                    except (NoSuchElementException, TimeoutException):\n",
    "                        print(\"No additional info container\")\n",
    "                        print(\"stopped at: \", business_details_dict)\n",
    "                        business_details_dict['additional_info'] = ''\n",
    "\n",
    "                    emails = set()\n",
    "\n",
    "                    external_link = business_details_dict['external-links-container']\n",
    "\n",
    "                    if external_link != '':\n",
    "                        await get_email(external_link, emails)\n",
    "                        await get_email_from_contact(driver, external_link, emails)\n",
    "                        print(\"emails have been updated these are emails\", emails)\n",
    "\n",
    "                    business_details_dict['emails'] = str(list(emails))\n",
    "\n",
    "                    print(business_details_dict)\n",
    "                    business_list.append(business_details_dict)\n",
    "                    time.sleep(1) # there's a lot of waiting in between, don't think we need a long wait\n",
    "\n",
    "            save_to_csv(business_list, where_param)\n",
    "\n",
    "    driver.quit()"
   ]
  },
  {
   "cell_type": "code",
   "execution_count": null,
   "id": "cad89ba7",
   "metadata": {},
   "outputs": [],
   "source": [
    "loop = asyncio.get_event_loop()\n",
    "loop.run_until_complete(main())\n",
    "loop.close()"
   ]
  }
 ],
 "metadata": {
  "kernelspec": {
   "display_name": "Python 3 (ipykernel)",
   "language": "python",
   "name": "python3"
  },
  "language_info": {
   "codemirror_mode": {
    "name": "ipython",
    "version": 3
   },
   "file_extension": ".py",
   "mimetype": "text/x-python",
   "name": "python",
   "nbconvert_exporter": "python",
   "pygments_lexer": "ipython3",
   "version": "3.11.1"
  }
 },
 "nbformat": 4,
 "nbformat_minor": 5
}
